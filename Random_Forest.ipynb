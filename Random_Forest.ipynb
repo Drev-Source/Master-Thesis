{
 "cells": [
  {
   "cell_type": "code",
   "execution_count": 16,
   "metadata": {},
   "outputs": [],
   "source": [
    "import pandas as pd\n",
    "import numpy as np\n",
    "\n",
    "from pandas.plotting import register_matplotlib_converters\n",
    "register_matplotlib_converters()\n",
    "\n",
    "import matplotlib.pyplot as plt\n",
    "import seaborn as sns\n",
    "\n",
    "from sklearn.ensemble import RandomForestRegressor\n",
    "from sklearn.model_selection import train_test_split\n",
    "\n",
    "from sklearn.metrics import mean_absolute_error, mean_squared_error, r2_score\n",
    "from math import sqrt"
   ]
  },
  {
   "cell_type": "code",
   "execution_count": 17,
   "metadata": {},
   "outputs": [
    {
     "data": {
      "text/html": [
       "<div>\n",
       "<style scoped>\n",
       "    .dataframe tbody tr th:only-of-type {\n",
       "        vertical-align: middle;\n",
       "    }\n",
       "\n",
       "    .dataframe tbody tr th {\n",
       "        vertical-align: top;\n",
       "    }\n",
       "\n",
       "    .dataframe thead th {\n",
       "        text-align: right;\n",
       "    }\n",
       "</style>\n",
       "<table border=\"1\" class=\"dataframe\">\n",
       "  <thead>\n",
       "    <tr style=\"text-align: right;\">\n",
       "      <th></th>\n",
       "      <th>T_out</th>\n",
       "      <th>Press_mm_hg</th>\n",
       "      <th>RH_out</th>\n",
       "      <th>Windspeed</th>\n",
       "      <th>Visibility</th>\n",
       "      <th>Tdewpoint</th>\n",
       "      <th>HouseConsum</th>\n",
       "    </tr>\n",
       "  </thead>\n",
       "  <tbody>\n",
       "    <tr>\n",
       "      <td>count</td>\n",
       "      <td>19735.000000</td>\n",
       "      <td>19735.000000</td>\n",
       "      <td>19735.000000</td>\n",
       "      <td>19735.000000</td>\n",
       "      <td>19735.000000</td>\n",
       "      <td>19735.000000</td>\n",
       "      <td>19735.000000</td>\n",
       "    </tr>\n",
       "    <tr>\n",
       "      <td>mean</td>\n",
       "      <td>7.411665</td>\n",
       "      <td>755.522602</td>\n",
       "      <td>79.750418</td>\n",
       "      <td>4.039752</td>\n",
       "      <td>38.330834</td>\n",
       "      <td>3.760707</td>\n",
       "      <td>0.028194</td>\n",
       "    </tr>\n",
       "    <tr>\n",
       "      <td>std</td>\n",
       "      <td>5.317409</td>\n",
       "      <td>7.399441</td>\n",
       "      <td>14.901088</td>\n",
       "      <td>2.451221</td>\n",
       "      <td>11.794719</td>\n",
       "      <td>4.194648</td>\n",
       "      <td>0.028995</td>\n",
       "    </tr>\n",
       "    <tr>\n",
       "      <td>min</td>\n",
       "      <td>-5.000000</td>\n",
       "      <td>729.300000</td>\n",
       "      <td>24.000000</td>\n",
       "      <td>0.000000</td>\n",
       "      <td>1.000000</td>\n",
       "      <td>-6.600000</td>\n",
       "      <td>0.002778</td>\n",
       "    </tr>\n",
       "    <tr>\n",
       "      <td>25%</td>\n",
       "      <td>3.666667</td>\n",
       "      <td>750.933333</td>\n",
       "      <td>70.333333</td>\n",
       "      <td>2.000000</td>\n",
       "      <td>29.000000</td>\n",
       "      <td>0.900000</td>\n",
       "      <td>0.013889</td>\n",
       "    </tr>\n",
       "    <tr>\n",
       "      <td>50%</td>\n",
       "      <td>6.916667</td>\n",
       "      <td>756.100000</td>\n",
       "      <td>83.666667</td>\n",
       "      <td>3.666667</td>\n",
       "      <td>40.000000</td>\n",
       "      <td>3.433333</td>\n",
       "      <td>0.016667</td>\n",
       "    </tr>\n",
       "    <tr>\n",
       "      <td>75%</td>\n",
       "      <td>10.408333</td>\n",
       "      <td>760.933333</td>\n",
       "      <td>91.666667</td>\n",
       "      <td>5.500000</td>\n",
       "      <td>40.000000</td>\n",
       "      <td>6.566667</td>\n",
       "      <td>0.027778</td>\n",
       "    </tr>\n",
       "    <tr>\n",
       "      <td>max</td>\n",
       "      <td>26.100000</td>\n",
       "      <td>772.300000</td>\n",
       "      <td>100.000000</td>\n",
       "      <td>14.000000</td>\n",
       "      <td>66.000000</td>\n",
       "      <td>15.500000</td>\n",
       "      <td>0.308333</td>\n",
       "    </tr>\n",
       "  </tbody>\n",
       "</table>\n",
       "</div>"
      ],
      "text/plain": [
       "              T_out   Press_mm_hg        RH_out     Windspeed    Visibility  \\\n",
       "count  19735.000000  19735.000000  19735.000000  19735.000000  19735.000000   \n",
       "mean       7.411665    755.522602     79.750418      4.039752     38.330834   \n",
       "std        5.317409      7.399441     14.901088      2.451221     11.794719   \n",
       "min       -5.000000    729.300000     24.000000      0.000000      1.000000   \n",
       "25%        3.666667    750.933333     70.333333      2.000000     29.000000   \n",
       "50%        6.916667    756.100000     83.666667      3.666667     40.000000   \n",
       "75%       10.408333    760.933333     91.666667      5.500000     40.000000   \n",
       "max       26.100000    772.300000    100.000000     14.000000     66.000000   \n",
       "\n",
       "          Tdewpoint   HouseConsum  \n",
       "count  19735.000000  19735.000000  \n",
       "mean       3.760707      0.028194  \n",
       "std        4.194648      0.028995  \n",
       "min       -6.600000      0.002778  \n",
       "25%        0.900000      0.013889  \n",
       "50%        3.433333      0.016667  \n",
       "75%        6.566667      0.027778  \n",
       "max       15.500000      0.308333  "
      ]
     },
     "execution_count": 17,
     "metadata": {},
     "output_type": "execute_result"
    }
   ],
   "source": [
    "df = pd.read_csv('KAG_energydata_complete_2.csv', sep=',')\n",
    "df = df.drop('Unnamed: 0', axis = 1)\n",
    "df = df.drop('date', axis = 1)\n",
    "\n",
    "cols = df.columns\n",
    "df.describe()"
   ]
  },
  {
   "cell_type": "code",
   "execution_count": 18,
   "metadata": {},
   "outputs": [
    {
     "data": {
      "text/html": [
       "<div>\n",
       "<style scoped>\n",
       "    .dataframe tbody tr th:only-of-type {\n",
       "        vertical-align: middle;\n",
       "    }\n",
       "\n",
       "    .dataframe tbody tr th {\n",
       "        vertical-align: top;\n",
       "    }\n",
       "\n",
       "    .dataframe thead th {\n",
       "        text-align: right;\n",
       "    }\n",
       "</style>\n",
       "<table border=\"1\" class=\"dataframe\">\n",
       "  <thead>\n",
       "    <tr style=\"text-align: right;\">\n",
       "      <th></th>\n",
       "      <th>temperature</th>\n",
       "      <th>pressure</th>\n",
       "      <th>humidity</th>\n",
       "      <th>windSpeed</th>\n",
       "      <th>visibility</th>\n",
       "      <th>dewPoint</th>\n",
       "      <th>House overall [kW]</th>\n",
       "    </tr>\n",
       "  </thead>\n",
       "  <tbody>\n",
       "    <tr>\n",
       "      <td>count</td>\n",
       "      <td>50391.000000</td>\n",
       "      <td>50391.000000</td>\n",
       "      <td>50391.000000</td>\n",
       "      <td>50391.000000</td>\n",
       "      <td>50391.000000</td>\n",
       "      <td>50391.000000</td>\n",
       "      <td>50391.000000</td>\n",
       "    </tr>\n",
       "    <tr>\n",
       "      <td>mean</td>\n",
       "      <td>10.412186</td>\n",
       "      <td>762.288910</td>\n",
       "      <td>0.664085</td>\n",
       "      <td>2.972787</td>\n",
       "      <td>5.749824</td>\n",
       "      <td>3.718896</td>\n",
       "      <td>0.858962</td>\n",
       "    </tr>\n",
       "    <tr>\n",
       "      <td>std</td>\n",
       "      <td>10.617192</td>\n",
       "      <td>5.921434</td>\n",
       "      <td>0.194233</td>\n",
       "      <td>1.776022</td>\n",
       "      <td>0.998889</td>\n",
       "      <td>10.603960</td>\n",
       "      <td>0.928474</td>\n",
       "    </tr>\n",
       "    <tr>\n",
       "      <td>min</td>\n",
       "      <td>-24.800000</td>\n",
       "      <td>739.860846</td>\n",
       "      <td>0.130000</td>\n",
       "      <td>0.000000</td>\n",
       "      <td>0.167770</td>\n",
       "      <td>-32.911111</td>\n",
       "      <td>0.000800</td>\n",
       "    </tr>\n",
       "    <tr>\n",
       "      <td>25%</td>\n",
       "      <td>2.094444</td>\n",
       "      <td>758.533632</td>\n",
       "      <td>0.510500</td>\n",
       "      <td>1.636390</td>\n",
       "      <td>5.853317</td>\n",
       "      <td>-4.117222</td>\n",
       "      <td>0.398141</td>\n",
       "    </tr>\n",
       "    <tr>\n",
       "      <td>50%</td>\n",
       "      <td>10.183333</td>\n",
       "      <td>762.460205</td>\n",
       "      <td>0.680000</td>\n",
       "      <td>2.646477</td>\n",
       "      <td>6.213712</td>\n",
       "      <td>3.905556</td>\n",
       "      <td>0.613882</td>\n",
       "    </tr>\n",
       "    <tr>\n",
       "      <td>75%</td>\n",
       "      <td>19.033333</td>\n",
       "      <td>766.173010</td>\n",
       "      <td>0.836000</td>\n",
       "      <td>3.992067</td>\n",
       "      <td>6.213712</td>\n",
       "      <td>12.661111</td>\n",
       "      <td>1.002376</td>\n",
       "    </tr>\n",
       "    <tr>\n",
       "      <td>max</td>\n",
       "      <td>34.288889</td>\n",
       "      <td>781.909304</td>\n",
       "      <td>0.980000</td>\n",
       "      <td>10.241686</td>\n",
       "      <td>6.213712</td>\n",
       "      <td>24.161111</td>\n",
       "      <td>11.224978</td>\n",
       "    </tr>\n",
       "  </tbody>\n",
       "</table>\n",
       "</div>"
      ],
      "text/plain": [
       "        temperature      pressure      humidity     windSpeed    visibility  \\\n",
       "count  50391.000000  50391.000000  50391.000000  50391.000000  50391.000000   \n",
       "mean      10.412186    762.288910      0.664085      2.972787      5.749824   \n",
       "std       10.617192      5.921434      0.194233      1.776022      0.998889   \n",
       "min      -24.800000    739.860846      0.130000      0.000000      0.167770   \n",
       "25%        2.094444    758.533632      0.510500      1.636390      5.853317   \n",
       "50%       10.183333    762.460205      0.680000      2.646477      6.213712   \n",
       "75%       19.033333    766.173010      0.836000      3.992067      6.213712   \n",
       "max       34.288889    781.909304      0.980000     10.241686      6.213712   \n",
       "\n",
       "           dewPoint  House overall [kW]  \n",
       "count  50391.000000        50391.000000  \n",
       "mean       3.718896            0.858962  \n",
       "std       10.603960            0.928474  \n",
       "min      -32.911111            0.000800  \n",
       "25%       -4.117222            0.398141  \n",
       "50%        3.905556            0.613882  \n",
       "75%       12.661111            1.002376  \n",
       "max       24.161111           11.224978  "
      ]
     },
     "execution_count": 18,
     "metadata": {},
     "output_type": "execute_result"
    }
   ],
   "source": [
    "df2 = pd.read_csv('HomeC_3.csv', sep=',')\n",
    "df2 = df2.drop('Unnamed: 0', axis = 1)\n",
    "\n",
    "cols2 = ['temperature', 'pressure', 'humidity', 'windSpeed', 'visibility', 'dewPoint', 'House overall [kW]']\n",
    "df2 = df2[cols2]\n",
    "\n",
    "df2.describe()"
   ]
  },
  {
   "cell_type": "code",
   "execution_count": 19,
   "metadata": {},
   "outputs": [],
   "source": [
    "X_train, X_test, y_train, y_test = train_test_split(df[cols[0:len(cols)-1]], df['HouseConsum'], test_size=0.3, random_state=1)"
   ]
  },
  {
   "cell_type": "code",
   "execution_count": 20,
   "metadata": {},
   "outputs": [],
   "source": [
    "X_train2, X_test2, y_train2, y_test2 = train_test_split(df2[cols2[0:len(cols2)-1]], df2['House overall [kW]'], test_size=0.3, random_state=1)"
   ]
  },
  {
   "cell_type": "code",
   "execution_count": 21,
   "metadata": {},
   "outputs": [],
   "source": [
    "def mean_absolute_percentage_error(y_true, y_pred): \n",
    "    y_true, y_pred = np.array(y_true), np.array(y_pred)\n",
    "    return np.mean(np.abs((y_true - y_pred) / y_true)) * 100"
   ]
  },
  {
   "cell_type": "code",
   "execution_count": 33,
   "metadata": {},
   "outputs": [
    {
     "name": "stdout",
     "output_type": "stream",
     "text": [
      "Good Model RMSE: 0.02529710609517305  R^2: 0.24174619956091803  MAE: 0.014415135392969394  MAPE: 59.53931013474851\n"
     ]
    }
   ],
   "source": [
    "regr = RandomForestRegressor(max_depth=10, n_estimators = 100, random_state=0)\n",
    "regr.fit(X_train, y_train)\n",
    "turned_R = regr.predict(X_test)\n",
    "turned_Y = y_test\n",
    "\n",
    "mae = mean_absolute_error(turned_Y,turned_R)\n",
    "rmse = sqrt(mean_squared_error(turned_Y,turned_R))\n",
    "rs = r2_score(turned_Y,turned_R)\n",
    "mape = mean_absolute_percentage_error(turned_Y,turned_R)\n",
    "\n",
    "print('Good Model','RMSE:', rmse, ' R^2:', rs, ' MAE:', mae, ' MAPE:', mape)"
   ]
  },
  {
   "cell_type": "code",
   "execution_count": 34,
   "metadata": {},
   "outputs": [
    {
     "data": {
      "image/png": "[encoded data removed]",
      "text/plain": [
       "<Figure size 864x864 with 1 Axes>"
      ]
     },
     "metadata": {
      "needs_background": "light"
     },
     "output_type": "display_data"
    }
   ],
   "source": [
    "regr = RandomForestRegressor(max_depth=10, n_estimators = 100, random_state=0)\n",
    "regr.fit(df[cols[0:len(cols)-1]], df['HouseConsum'])\n",
    "\n",
    "importances = regr.feature_importances_*100\n",
    "\n",
    "plt.figure(figsize=(12,12))\n",
    "sns.barplot(cols[0:len(cols)-1],importances)\n",
    "plt.xlabel('Features',fontsize=18, ha='center')\n",
    "plt.ylabel('%',fontsize=25, ha='center')\n",
    "plt.title('Feature Importance',fontsize=25, ha='center')\n",
    "plt.xticks(rotation='vertical')\n",
    "plt.tick_params(labelsize=18)\n",
    "plt.savefig('C:/Users/Anton/Desktop/Exjobb MSC/graph_ex/Feature_Importance.PNG')"
   ]
  },
  {
   "cell_type": "code",
   "execution_count": 35,
   "metadata": {},
   "outputs": [
    {
     "name": "stdout",
     "output_type": "stream",
     "text": [
      "Good Model RMSE: 0.74293357457574  R^2: 0.36808086528107586  MAE: 0.437444439315743  MAPE: 154.59496261642417\n"
     ]
    }
   ],
   "source": [
    "regr = RandomForestRegressor(max_depth=10, n_estimators = 100, random_state=0)\n",
    "regr.fit(X_train2, y_train2)\n",
    "turned_R = regr.predict(X_test2)\n",
    "turned_Y = y_test2\n",
    "\n",
    "mae = mean_absolute_error(turned_Y,turned_R)\n",
    "rmse = sqrt(mean_squared_error(turned_Y,turned_R))\n",
    "rs = r2_score(turned_Y,turned_R)\n",
    "mape = mean_absolute_percentage_error(turned_Y,turned_R)\n",
    "\n",
    "print('Good Model','RMSE:', rmse, ' R^2:', rs, ' MAE:', mae, ' MAPE:', mape)"
   ]
  },
  {
   "cell_type": "code",
   "execution_count": 36,
   "metadata": {},
   "outputs": [
    {
     "data": {
      "image/png": "[encoded data removed]",
      "text/plain": [
       "<Figure size 864x864 with 1 Axes>"
      ]
     },
     "metadata": {
      "needs_background": "light"
     },
     "output_type": "display_data"
    }
   ],
   "source": [
    "regr = RandomForestRegressor(max_depth=10, n_estimators = 100, random_state=0)\n",
    "regr.fit(df2[cols2[0:len(cols2)-1]], df2['House overall [kW]'])\n",
    "\n",
    "importances = regr.feature_importances_*100\n",
    "\n",
    "plt.figure(figsize=(12,12))\n",
    "sns.barplot(cols2[0:len(cols2)-1],importances)\n",
    "plt.xlabel('Features',fontsize=18, ha='center')\n",
    "plt.ylabel('%',fontsize=25, ha='center')\n",
    "plt.title('Feature Importance',fontsize=25, ha='center')\n",
    "plt.xticks(rotation='vertical')\n",
    "plt.tick_params(labelsize=18)\n",
    "plt.savefig('C:/Users/Anton/Desktop/Exjobb MSC/graph_ex/Feature_Importance_2.PNG')"
   ]
  },
  {
   "cell_type": "code",
   "execution_count": null,
   "metadata": {},
   "outputs": [],
   "source": []
  }
 ],
 "metadata": {
  "kernelspec": {
   "display_name": "Python 3",
   "language": "python",
   "name": "python3"
  },
  "language_info": {
   "codemirror_mode": {
    "name": "ipython",
    "version": 3
   },
   "file_extension": ".py",
   "mimetype": "text/x-python",
   "name": "python",
   "nbconvert_exporter": "python",
   "pygments_lexer": "ipython3",
   "version": "3.7.4"
  }
 },
 "nbformat": 4,
 "nbformat_minor": 2
}
